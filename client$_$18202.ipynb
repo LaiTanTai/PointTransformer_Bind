{
  "nbformat": 4,
  "nbformat_minor": 0,
  "metadata": {
    "colab": {
      "provenance": [],
      "authorship_tag": "ABX9TyPs/k0h5NUM/+i9JNKPyyv7",
      "include_colab_link": true
    },
    "kernelspec": {
      "name": "python3",
      "display_name": "Python 3"
    },
    "language_info": {
      "name": "python"
    }
  },
  "cells": [
    {
      "cell_type": "markdown",
      "metadata": {
        "id": "view-in-github",
        "colab_type": "text"
      },
      "source": [
        "<a href=\"https://colab.research.google.com/github/LaiTanTai/PointTransformer_Bind/blob/main/client%24_%2418202.ipynb\" target=\"_parent\"><img src=\"https://colab.research.google.com/assets/colab-badge.svg\" alt=\"Open In Colab\"/></a>"
      ]
    },
    {
      "cell_type": "code",
      "execution_count": 3,
      "metadata": {
        "colab": {
          "base_uri": "https://localhost:8080/"
        },
        "id": "WtnS67lq75HB",
        "outputId": "5a602f04-0a26-4e36-b44a-0dc8cfde6b43"
      },
      "outputs": [
        {
          "output_type": "stream",
          "name": "stdout",
          "text": [
            "{\"status\":\"success\"}\n",
            "\n"
          ]
        }
      ],
      "source": [
        "import requests\n",
        "\n",
        "url = 'https://8fd0-2001-ee0-4f83-47d0-84be-e36-8d40-ddd6.ngrok-free.app/connect'\n",
        "\n",
        "response = requests.post(url, json={'name':\"Tyalia\"})\n",
        "print(response.text)"
      ]
    }
  ]
}